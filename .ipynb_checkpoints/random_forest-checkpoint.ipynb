{
 "cells": [
  {
   "cell_type": "code",
   "execution_count": null,
   "metadata": {},
   "outputs": [],
   "source": [
    "import numpy as np\n",
    "import pandas as pd\n",
    "from sklearn.model_selection import train_test_split\n",
    "from sklearn.linear_model import LinearRegression\n",
    "import matplotlib.pyplot as plt\n",
    "from sklearn.metrics import mean_squared_error\n",
    "from sklearn.ensemble import RandomForestRegressor\n",
    "\n",
    "df = pd.read_csv('dataset.csv', delimiter=',', decimal = ',')\n",
    "df = df.dropna()\n",
    "\n",
    "print(df.columns)\n",
    "\n",
    "Y = df['% Silica Concentrate']\n",
    "X = df.drop(['% Silica Concentrate', 'date'], axis = 1)\n",
    "\n",
    "X_train, X_test, Y_train, Y_test = train_test_split(X, Y, test_size = 0.3, random_state = 42)"
   ]
  },
  {
   "cell_type": "code",
   "execution_count": 29,
   "metadata": {},
   "outputs": [
    {
     "name": "stdout",
     "output_type": "stream",
     "text": [
      "Error at  1  :  0.0137917266308758\n",
      "Error at  2  :  0.007684044722678988\n",
      "Error at  3  :  0.006035479561440729\n",
      "Error at  4  :  0.004958323667276245\n",
      "Error at  5  :  0.004316325761574704\n"
     ]
    }
   ],
   "source": [
    "results = []\n",
    "\n",
    "for n_trees in range(1,6,1):\n",
    "    rf = RandomForestRegressor(n_estimators = n_trees, min_samples_split = 2, min_samples_leaf = 1, random_state = 42, bootstrap = True)\n",
    "    rf.fit(X_train, Y_train)\n",
    "    predictions = rf.predict(X_test)\n",
    "    error = mean_squared_error(predictions, Y_test)\n",
    "    results.append(predictions)\n",
    "    print(\"Error at \",n_trees,\" : \",error)"
   ]
  },
  {
   "cell_type": "code",
   "execution_count": 31,
   "metadata": {},
   "outputs": [
    {
     "ename": "AttributeError",
     "evalue": "'numpy.ndarray' object has no attribute 'values'",
     "output_type": "error",
     "traceback": [
      "\u001b[1;31m---------------------------------------------------------------------------\u001b[0m",
      "\u001b[1;31mAttributeError\u001b[0m                            Traceback (most recent call last)",
      "\u001b[1;32m<ipython-input-31-541c97df0265>\u001b[0m in \u001b[0;36m<module>\u001b[1;34m()\u001b[0m\n\u001b[1;32m----> 1\u001b[1;33m \u001b[0mY_test\u001b[0m \u001b[1;33m=\u001b[0m \u001b[0mY_test\u001b[0m\u001b[1;33m.\u001b[0m\u001b[0mvalues\u001b[0m\u001b[1;33m\u001b[0m\u001b[0m\n\u001b[0m",
      "\u001b[1;31mAttributeError\u001b[0m: 'numpy.ndarray' object has no attribute 'values'"
     ]
    }
   ],
   "source": [
    "Y_test = Y_test.values"
   ]
  },
  {
   "cell_type": "code",
   "execution_count": 57,
   "metadata": {},
   "outputs": [],
   "source": [
    "Y_pred = results[4]"
   ]
  },
  {
   "cell_type": "code",
   "execution_count": 58,
   "metadata": {},
   "outputs": [
    {
     "name": "stdout",
     "output_type": "stream",
     "text": [
      "0.9996429152579146\n"
     ]
    }
   ],
   "source": [
    "n = len(Y_test)\n",
    "\n",
    "accuracy = 0.0\n",
    "\n",
    "for i in range(n):\n",
    "    if(abs(Y_test[i]-Y_pred[i])<=0.5 * Y_test[i]):\n",
    "        accuracy = accuracy + 1.0\n",
    "\n",
    "accuracy /= n\n",
    "\n",
    "print(accuracy)"
   ]
  }
 ],
 "metadata": {
  "kernelspec": {
   "display_name": "Python 3",
   "language": "python",
   "name": "python3"
  },
  "language_info": {
   "codemirror_mode": {
    "name": "ipython",
    "version": 3
   },
   "file_extension": ".py",
   "mimetype": "text/x-python",
   "name": "python",
   "nbconvert_exporter": "python",
   "pygments_lexer": "ipython3",
   "version": "3.6.6"
  }
 },
 "nbformat": 4,
 "nbformat_minor": 2
}
