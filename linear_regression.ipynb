{
 "cells": [
  {
   "cell_type": "code",
   "execution_count": 1,
   "metadata": {},
   "outputs": [
    {
     "name": "stdout",
     "output_type": "stream",
     "text": [
      "Index(['date', '% Iron Feed', '% Silica Feed', 'Starch Flow', 'Amina Flow',\n",
      "       'Ore Pulp Flow', 'Ore Pulp pH', 'Ore Pulp Density',\n",
      "       'Flotation Column 01 Air Flow', 'Flotation Column 02 Air Flow',\n",
      "       'Flotation Column 03 Air Flow', 'Flotation Column 04 Air Flow',\n",
      "       'Flotation Column 05 Air Flow', 'Flotation Column 06 Air Flow',\n",
      "       'Flotation Column 07 Air Flow', 'Flotation Column 01 Level',\n",
      "       'Flotation Column 02 Level', 'Flotation Column 03 Level',\n",
      "       'Flotation Column 04 Level', 'Flotation Column 05 Level',\n",
      "       'Flotation Column 06 Level', 'Flotation Column 07 Level',\n",
      "       '% Iron Concentrate', '% Silica Concentrate'],\n",
      "      dtype='object')\n"
     ]
    }
   ],
   "source": [
    "import numpy as np\n",
    "import pandas as pd\n",
    "from sklearn.model_selection import train_test_split\n",
    "from sklearn.linear_model import LinearRegression\n",
    "import matplotlib.pyplot as plt\n",
    "from sklearn.metrics import mean_squared_error\n",
    "\n",
    "df = pd.read_csv('dataset.csv', delimiter=',', decimal = ',')\n",
    "df = df.dropna()\n",
    "\n",
    "print(df.columns)\n",
    "\n",
    "Y = df['% Silica Concentrate']\n",
    "X = df.drop(['% Silica Concentrate', 'date'], axis = 1)\n",
    "\n",
    "X_train, X_test, Y_train, Y_test = train_test_split(X, Y, test_size = 0.3, random_state = 42)"
   ]
  },
  {
   "cell_type": "code",
   "execution_count": 2,
   "metadata": {},
   "outputs": [
    {
     "name": "stdout",
     "output_type": "stream",
     "text": [
      "0.40484924103541986\n"
     ]
    }
   ],
   "source": [
    "reg = LinearRegression()\n",
    "\n",
    "model = reg.fit(X_train, Y_train)\n",
    "Y_pred = reg.predict(X_test)\n",
    "\n",
    "error = mean_squared_error(Y_test, Y_pred)\n",
    "print(error)"
   ]
  },
  {
   "cell_type": "code",
   "execution_count": 8,
   "metadata": {},
   "outputs": [
    {
     "name": "stdout",
     "output_type": "stream",
     "text": [
      "0.8926847348532788\n"
     ]
    }
   ],
   "source": [
    "accuracy = 0.0\n",
    "\n",
    "#Y_test = Y_test.values\n",
    "n = len(Y_test)\n",
    "\n",
    "for i in range(n):\n",
    "    if(abs(Y_test[i]-Y_pred[i]) <= 0.5 * Y_test[i]):\n",
    "        accuracy = accuracy + 1\n",
    "\n",
    "print(accuracy/n)"
   ]
  }
 ],
 "metadata": {
  "kernelspec": {
   "display_name": "Python 3",
   "language": "python",
   "name": "python3"
  },
  "language_info": {
   "codemirror_mode": {
    "name": "ipython",
    "version": 3
   },
   "file_extension": ".py",
   "mimetype": "text/x-python",
   "name": "python",
   "nbconvert_exporter": "python",
   "pygments_lexer": "ipython3",
   "version": "3.6.6"
  }
 },
 "nbformat": 4,
 "nbformat_minor": 2
}
