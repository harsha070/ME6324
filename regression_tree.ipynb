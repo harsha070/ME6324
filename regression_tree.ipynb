{
 "cells": [
  {
   "cell_type": "code",
   "execution_count": null,
   "metadata": {},
   "outputs": [],
   "source": [
    "import numpy as np\n",
    "import pandas as pd\n",
    "from sklearn.model_selection import train_test_split\n",
    "from sklearn.linear_model import LinearRegression\n",
    "import matplotlib.pyplot as plt\n",
    "from sklearn.metrics import mean_squared_error\n",
    "from sklearn import tree\n",
    "\n",
    "df = pd.read_csv('dataset.csv', delimiter=',', decimal = ',')\n",
    "df = df.dropna()\n",
    "\n",
    "print(df.columns)\n",
    "\n",
    "Y = df['% Silica Concentrate']\n",
    "X = df.drop(['% Silica Concentrate', 'date'], axis = 1)\n",
    "\n",
    "X_train, X_test, Y_train, Y_test = train_test_split(X, Y, test_size = 0.3, random_state = 42)"
   ]
  },
  {
   "cell_type": "code",
   "execution_count": 2,
   "metadata": {},
   "outputs": [
    {
     "name": "stdout",
     "output_type": "stream",
     "text": [
      "0.009402734158980512\n"
     ]
    }
   ],
   "source": [
    "model = tree.DecisionTreeRegressor(criterion = 'MSE', min_samples_split = 2, min_samples_leaf = 1)\n",
    "\n",
    "model = model.fit(X_train, Y_train)\n",
    "Y_pred = model.predict(X_test)\n",
    "\n",
    "error = mean_squared_error(Y_pred, Y_test)\n",
    "print(error)"
   ]
  },
  {
   "cell_type": "code",
   "execution_count": 9,
   "metadata": {},
   "outputs": [
    {
     "name": "stdout",
     "output_type": "stream",
     "text": [
      "0.9980563741886492\n"
     ]
    }
   ],
   "source": [
    "accuracy = 0.0\n",
    "\n",
    "#Y_test = Y_test.values\n",
    "n = len(Y_test)\n",
    "\n",
    "for i in range(n):\n",
    "    if(abs(Y_test[i]-Y_pred[i]) <= 0.5 * Y_test[i]):\n",
    "        accuracy = accuracy + 1\n",
    "\n",
    "print(accuracy/n)"
   ]
  }
 ],
 "metadata": {
  "kernelspec": {
   "display_name": "Python 3",
   "language": "python",
   "name": "python3"
  },
  "language_info": {
   "codemirror_mode": {
    "name": "ipython",
    "version": 3
   },
   "file_extension": ".py",
   "mimetype": "text/x-python",
   "name": "python",
   "nbconvert_exporter": "python",
   "pygments_lexer": "ipython3",
   "version": "3.6.6"
  }
 },
 "nbformat": 4,
 "nbformat_minor": 2
}
